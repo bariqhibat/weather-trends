{
 "cells": [
  {
   "cell_type": "markdown",
   "metadata": {},
   "source": [
    "# SQL QUERY:\n",
    "### SELECT year,avg_temp FROM city_data WHERE city = 'Singapore'\n",
    "\n",
    "### SELECT year,avg_temp FROM global_data\n"
   ]
  },
  {
   "cell_type": "markdown",
   "metadata": {},
   "source": [
    "# Tools for Each Step\n",
    "### Only Jupyter on Python\n",
    "# How did you calculate the moving average?\n",
    "### Below there will be a code for it. Basically, calculation to analyze data points by creating a series of averages of different subsets of the full data set.\n",
    "# What were your key considerations when deciding how to visualize the trends?\n",
    "### The clearness of the graph which is labels and legends. Title is also a must."
   ]
  },
  {
   "cell_type": "code",
   "execution_count": 1,
   "metadata": {},
   "outputs": [],
   "source": [
    "#Import libraries\n",
    "import pandas as pd\n",
    "import numpy as np\n",
    "import matplotlib.pyplot as plt"
   ]
  },
  {
   "cell_type": "code",
   "execution_count": 2,
   "metadata": {},
   "outputs": [],
   "source": [
    "#Import data\n",
    "gdata = pd.read_csv('gdata.csv')\n",
    "cdata = pd.read_csv('cdata.csv')"
   ]
  },
  {
   "cell_type": "code",
   "execution_count": 3,
   "metadata": {},
   "outputs": [
    {
     "data": {
      "text/html": [
       "<div>\n",
       "<style scoped>\n",
       "    .dataframe tbody tr th:only-of-type {\n",
       "        vertical-align: middle;\n",
       "    }\n",
       "\n",
       "    .dataframe tbody tr th {\n",
       "        vertical-align: top;\n",
       "    }\n",
       "\n",
       "    .dataframe thead th {\n",
       "        text-align: right;\n",
       "    }\n",
       "</style>\n",
       "<table border=\"1\" class=\"dataframe\">\n",
       "  <thead>\n",
       "    <tr style=\"text-align: right;\">\n",
       "      <th></th>\n",
       "      <th>year</th>\n",
       "      <th>avg_temp</th>\n",
       "    </tr>\n",
       "  </thead>\n",
       "  <tbody>\n",
       "    <tr>\n",
       "      <th>0</th>\n",
       "      <td>1750</td>\n",
       "      <td>8.72</td>\n",
       "    </tr>\n",
       "  </tbody>\n",
       "</table>\n",
       "</div>"
      ],
      "text/plain": [
       "   year  avg_temp\n",
       "0  1750      8.72"
      ]
     },
     "execution_count": 3,
     "metadata": {},
     "output_type": "execute_result"
    }
   ],
   "source": [
    "#Checking data\n",
    "gdata.head(1)"
   ]
  },
  {
   "cell_type": "code",
   "execution_count": 4,
   "metadata": {},
   "outputs": [
    {
     "data": {
      "text/html": [
       "<div>\n",
       "<style scoped>\n",
       "    .dataframe tbody tr th:only-of-type {\n",
       "        vertical-align: middle;\n",
       "    }\n",
       "\n",
       "    .dataframe tbody tr th {\n",
       "        vertical-align: top;\n",
       "    }\n",
       "\n",
       "    .dataframe thead th {\n",
       "        text-align: right;\n",
       "    }\n",
       "</style>\n",
       "<table border=\"1\" class=\"dataframe\">\n",
       "  <thead>\n",
       "    <tr style=\"text-align: right;\">\n",
       "      <th></th>\n",
       "      <th>year</th>\n",
       "      <th>avg_temp</th>\n",
       "    </tr>\n",
       "  </thead>\n",
       "  <tbody>\n",
       "    <tr>\n",
       "      <th>0</th>\n",
       "      <td>1825</td>\n",
       "      <td>26.43</td>\n",
       "    </tr>\n",
       "  </tbody>\n",
       "</table>\n",
       "</div>"
      ],
      "text/plain": [
       "   year  avg_temp\n",
       "0  1825     26.43"
      ]
     },
     "execution_count": 4,
     "metadata": {},
     "output_type": "execute_result"
    }
   ],
   "source": [
    "cdata.head(1)"
   ]
  },
  {
   "cell_type": "code",
   "execution_count": 5,
   "metadata": {},
   "outputs": [
    {
     "data": {
      "text/plain": [
       "year         0\n",
       "avg_temp    17\n",
       "dtype: int64"
      ]
     },
     "execution_count": 5,
     "metadata": {},
     "output_type": "execute_result"
    }
   ],
   "source": [
    "#Check if missing value exist\n",
    "cdata.isna().sum()"
   ]
  },
  {
   "cell_type": "code",
   "execution_count": 6,
   "metadata": {},
   "outputs": [
    {
     "data": {
      "text/plain": [
       "year        0\n",
       "avg_temp    0\n",
       "dtype: int64"
      ]
     },
     "execution_count": 6,
     "metadata": {},
     "output_type": "execute_result"
    }
   ],
   "source": [
    "#Check if missing value exist\n",
    "gdata.isna().sum()"
   ]
  },
  {
   "cell_type": "code",
   "execution_count": 7,
   "metadata": {},
   "outputs": [],
   "source": [
    "#Filling missing values with mean\n",
    "cdata = cdata.fillna(cdata.mean())"
   ]
  },
  {
   "cell_type": "code",
   "execution_count": 8,
   "metadata": {},
   "outputs": [
    {
     "data": {
      "text/plain": [
       "<matplotlib.legend.Legend at 0x28eee5d7550>"
      ]
     },
     "execution_count": 8,
     "metadata": {},
     "output_type": "execute_result"
    },
    {
     "data": {
      "image/png": "[encoded data removed]",
      "text/plain": [
       "<Figure size 432x288 with 1 Axes>"
      ]
     },
     "metadata": {
      "needs_background": "light"
     },
     "output_type": "display_data"
    }
   ],
   "source": [
    "#Plot the avg_temp over year\n",
    "plt.plot( 'year', 'avg_temp', data=cdata, marker='', color='red', linewidth=2, label='Singapore')\n",
    "plt.plot( 'year', 'avg_temp', data=gdata, marker='', color='blue', linewidth=2, label='Global')\n",
    "plt.title('Year vs Average Temperature')\n",
    "plt.xlabel('year')\n",
    "plt.ylabel('avg_temp')\n",
    "plt.legend()\n",
    "#Old Code\n",
    "# gdata.plot(y='avg_temp',x='year', c='red')\n",
    "# plt.title('Global')\n",
    "# cdata.plot(y='avg_temp',x='year', c='blue')\n",
    "# plt.title('Singapore')"
   ]
  },
  {
   "cell_type": "markdown",
   "metadata": {},
   "source": [
    "### We see that the there's a fluctuation and the graph isn't very smooth. We will have to apply moving windows to smooth out the graph.\n",
    "### Based on the graph, we see there's a slight increase of average temperature over time after 1850. This is the golden time where industry is revolutionized by machine since the discovery of steam engine by James Watt "
   ]
  },
  {
   "cell_type": "code",
   "execution_count": 9,
   "metadata": {},
   "outputs": [],
   "source": [
    "#Moving Average Algorithms \n",
    "window_size = 20\n",
    "series = cdata['avg_temp']\n",
    "windows = series.rolling(window_size)\n",
    "moving_averages = windows.mean()\n",
    "\n",
    "moving_averages_list = moving_averages.tolist()\n",
    "without_nans = moving_averages_list[window_size - 1:]"
   ]
  },
  {
   "cell_type": "code",
   "execution_count": 10,
   "metadata": {},
   "outputs": [],
   "source": [
    "#Adding new column to the dataframe\n",
    "cdata['mov_avg'] = np.array(moving_averages_list)"
   ]
  },
  {
   "cell_type": "code",
   "execution_count": 11,
   "metadata": {},
   "outputs": [],
   "source": [
    "#Moving Average Algorithms \n",
    "window_size = 20\n",
    "series = gdata['avg_temp']\n",
    "windows = series.rolling(window_size)\n",
    "moving_averages = windows.mean()\n",
    "\n",
    "moving_averages_list = moving_averages.tolist()\n",
    "without_nans = moving_averages_list[window_size - 1:]"
   ]
  },
  {
   "cell_type": "code",
   "execution_count": 12,
   "metadata": {},
   "outputs": [],
   "source": [
    "#Adding new column to the dataframe\n",
    "gdata['mov_avg'] = np.array(moving_averages_list)"
   ]
  },
  {
   "cell_type": "code",
   "execution_count": 13,
   "metadata": {},
   "outputs": [
    {
     "data": {
      "text/plain": [
       "<matplotlib.legend.Legend at 0x28eee6c92e8>"
      ]
     },
     "execution_count": 13,
     "metadata": {},
     "output_type": "execute_result"
    },
    {
     "data": {
      "image/png": "[encoded data removed]",
      "text/plain": [
       "<Figure size 432x288 with 1 Axes>"
      ]
     },
     "metadata": {
      "needs_background": "light"
     },
     "output_type": "display_data"
    }
   ],
   "source": [
    "#Plot the moving average over year\n",
    "#Plot the avg_temp over year\n",
    "plt.plot( 'year', 'mov_avg', data=cdata, marker='', color='red', linewidth=2, label='Singapore')\n",
    "plt.plot( 'year', 'mov_avg', data=gdata, marker='', color='blue', linewidth=2, label='Global')\n",
    "plt.title('Year vs Moving Temperature Average')\n",
    "plt.xlabel('year')\n",
    "plt.ylabel('mov_avg')\n",
    "plt.legend()\n",
    "#Old code\n",
    "# gdata.plot(y='mov_avg',x='year', c='red')\n",
    "# plt.title('Global')\n",
    "# cdata.plot(y='mov_avg',x='year', c='blue')\n",
    "# plt.title('Singapore')"
   ]
  },
  {
   "cell_type": "markdown",
   "metadata": {},
   "source": [
    "### We see that now the graph is  smooth. We can see clearly the increase of temperatures over time.\n",
    "### We can take the same conclusion from the graph before since it basically a same data."
   ]
  },
  {
   "cell_type": "markdown",
   "metadata": {},
   "source": [
    "# Is your city hotter or cooler on average compared to the global average? Has the difference been consistent over time?\n",
    "### My city is hotter on average compared to the global average because I think it is because it is close to the equator. Yes it has been consistent over time.\n",
    "# “How do the changes in your city’s temperatures over time compare to the changes in the global average?”\n",
    "### Based on the graph before, before 1950, the curve isn't similar from the local data and global data. But, as it progresses, it is close to similar that it is scary. The temperature is increasing steeply.\n",
    "# What does the overall trend look like? Is the world getting hotter or cooler? Has the trend been consistent over the last few hundred years?\n",
    "### Yes the world is getting hotter and with such high speed also. No, the world is getting hotter ONLY in these recent year. Before 1875, it is even decreasing.\n",
    "# What's the difference between your local plot and global plot?\n",
    "### The one difference that I could find is that every point in the local plot is a summation of global plot and some values. That means that overall the temperature is hotter here, but the rate of increase or decrease for both of them is the same. "
   ]
  },
  {
   "cell_type": "code",
   "execution_count": null,
   "metadata": {},
   "outputs": [],
   "source": []
  }
 ],
 "metadata": {
  "kernelspec": {
   "display_name": "Python 3",
   "language": "python",
   "name": "python3"
  },
  "language_info": {
   "codemirror_mode": {
    "name": "ipython",
    "version": 3
   },
   "file_extension": ".py",
   "mimetype": "text/x-python",
   "name": "python",
   "nbconvert_exporter": "python",
   "pygments_lexer": "ipython3",
   "version": "3.7.3"
  }
 },
 "nbformat": 4,
 "nbformat_minor": 2
}
